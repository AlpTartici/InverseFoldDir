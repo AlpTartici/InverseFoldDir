{
 "cells": [
  {
   "cell_type": "code",
   "execution_count": 1,
   "id": "d1e0ba00",
   "metadata": {},
   "outputs": [],
   "source": [
    "import pandas as pd"
   ]
  },
  {
   "cell_type": "code",
   "execution_count": 4,
   "id": "a9791a74",
   "metadata": {},
   "outputs": [],
   "source": [
    "df = pd.read_csv('../datasets/proteins_with_no_missing_residues_bFacUnder75_tmAbove95_count30.csv')"
   ]
  },
  {
   "cell_type": "code",
   "execution_count": 8,
   "id": "61af7ed4",
   "metadata": {},
   "outputs": [
    {
     "name": "stdout",
     "output_type": "stream",
     "text": [
      "1h2s.A\n",
      "1c52.A\n",
      "1erz.A\n",
      "1jzn.A\n",
      "1m70.A\n",
      "1iqc.A\n",
      "1j3e.A\n",
      "1fcd.C\n",
      "1dw0.A\n",
      "1dv8.A\n",
      "1xko.B\n",
      "1uh9.A\n",
      "1a2f.A\n",
      "1bgp.A\n",
      "3ff7.C\n",
      "1bek.A\n",
      "3gxv.B\n",
      "2yhf.A\n",
      "1ql3.A\n",
      "1j71.A\n",
      "1wmz.A\n",
      "4avr.A\n",
      "1bm8.A\n",
      "2hc8.A\n",
      "1wkr.A\n",
      "1dpj.A\n",
      "1nmp.A\n",
      "1a94.A\n",
      "1bnl.A\n",
      "3bdw.A\n"
     ]
    }
   ],
   "source": [
    "for i in df['Protein_ID'].values:\n",
    "    print(i)"
   ]
  },
  {
   "cell_type": "code",
   "execution_count": null,
   "id": "67d6fa5b",
   "metadata": {},
   "outputs": [],
   "source": []
  }
 ],
 "metadata": {
  "kernelspec": {
   "display_name": "inv_fold",
   "language": "python",
   "name": "python3"
  },
  "language_info": {
   "codemirror_mode": {
    "name": "ipython",
    "version": 3
   },
   "file_extension": ".py",
   "mimetype": "text/x-python",
   "name": "python",
   "nbconvert_exporter": "python",
   "pygments_lexer": "ipython3",
   "version": "3.9.15"
  }
 },
 "nbformat": 4,
 "nbformat_minor": 5
}

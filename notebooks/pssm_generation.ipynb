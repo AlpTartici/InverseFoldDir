{
 "cells": [
  {
   "cell_type": "code",
   "execution_count": 1,
   "id": "1bd9416e",
   "metadata": {},
   "outputs": [],
   "source": [
    "import pickle\n",
    "\n",
    "# pickle load\n",
    "with open('../datasets/cath-4.2/chain_set_map_with_b_factors_dssp.pkl', 'rb') as f:\n",
    "    data = pickle.load(f)"
   ]
  },
  {
   "cell_type": "code",
   "execution_count": 2,
   "id": "acaa313f",
   "metadata": {},
   "outputs": [],
   "source": [
    "pdb_chain = \"1fcd.C\"\n",
    "\n",
    "entry = data[pdb_chain]"
   ]
  },
  {
   "cell_type": "code",
   "execution_count": null,
   "id": "dc010ce9",
   "metadata": {},
   "outputs": [],
   "source": []
  }
 ],
 "metadata": {
  "kernelspec": {
   "display_name": "inv_fold",
   "language": "python",
   "name": "python3"
  },
  "language_info": {
   "codemirror_mode": {
    "name": "ipython",
    "version": 3
   },
   "file_extension": ".py",
   "mimetype": "text/x-python",
   "name": "python",
   "nbconvert_exporter": "python",
   "pygments_lexer": "ipython3",
   "version": "3.9.15"
  }
 },
 "nbformat": 4,
 "nbformat_minor": 5
}

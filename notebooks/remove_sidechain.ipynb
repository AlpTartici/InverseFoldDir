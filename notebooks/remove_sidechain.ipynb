{
 "cells": [
  {
   "cell_type": "code",
   "execution_count": 5,
   "id": "a0265ee7",
   "metadata": {},
   "outputs": [],
   "source": [
    "import os\n",
    "from tqdm import tqdm"
   ]
  },
  {
   "cell_type": "markdown",
   "id": "cd895b00",
   "metadata": {},
   "source": [
    "# validation"
   ]
  },
  {
   "cell_type": "code",
   "execution_count": 5,
   "id": "e1b262ca",
   "metadata": {},
   "outputs": [],
   "source": [
    "backbone_atoms = {\"N\", \"CA\", \"C\", \"O\"}\n",
    "\n",
    "for pdb_id in os.listdir(\"../datasets/gold_standard_struct_eval/validation_with_sidechain/\"):\n",
    "    pdb_in_path = f\"../datasets/gold_standard_struct_eval/validation_with_sidechain/{pdb_id}\"\n",
    "    pdb_out_path = f\"../datasets/gold_standard_struct_eval/validation/{pdb_id}\"\n",
    "\n",
    "    with open(pdb_in_path, \"r\") as infile, open(pdb_out_path, \"w\") as outfile:\n",
    "        for line in infile:\n",
    "            if line.startswith(\"ATOM\"):\n",
    "                atom_name = line[12:16].strip()\n",
    "                if atom_name in backbone_atoms:\n",
    "                    outfile.write(line)\n"
   ]
  },
  {
   "cell_type": "markdown",
   "id": "ae46f04a",
   "metadata": {},
   "source": [
    "# test"
   ]
  },
  {
   "cell_type": "code",
   "execution_count": 1,
   "id": "b304c358",
   "metadata": {},
   "outputs": [],
   "source": [
    "import json\n",
    "\n",
    "# open ../datasets/cath-4.2/chain_set_splits.json\n",
    "with open(\"../datasets/cath-4.2/chain_set_splits.json\", \"r\") as f:\n",
    "    chain_set_splits = json.load(f)"
   ]
  },
  {
   "cell_type": "code",
   "execution_count": 3,
   "id": "5f6fb614",
   "metadata": {},
   "outputs": [],
   "source": [
    "test_prots = chain_set_splits['test']"
   ]
  },
  {
   "cell_type": "code",
   "execution_count": 4,
   "id": "27f0b1c8",
   "metadata": {},
   "outputs": [
    {
     "data": {
      "text/plain": [
       "['3fkf.A', '2d9e.A', '2lkl.A', '1ud9.A', '2rem.B']"
      ]
     },
     "execution_count": 4,
     "metadata": {},
     "output_type": "execute_result"
    }
   ],
   "source": [
    "test_prots[0:5]"
   ]
  },
  {
   "cell_type": "code",
   "execution_count": 7,
   "id": "be308fe0",
   "metadata": {},
   "outputs": [
    {
     "name": "stderr",
     "output_type": "stream",
     "text": [
      "100%|██████████| 1120/1120 [00:00<00:00, 1402.08it/s]\n"
     ]
    }
   ],
   "source": [
    "backbone_atoms = {\"N\", \"CA\", \"C\", \"O\"}\n",
    "PATH_SOURCE_DIR = \"../datasets/all_chain_pdbs\"\n",
    "PATH_TARGET_DIR = \"../datasets/gold_standard_struct_eval/test_all_no_sidechain\"\n",
    "for prot in tqdm(test_prots):\n",
    "    pdb_id, chain = prot.split('.')\n",
    "    filename = f\"{pdb_id}_chain{chain}.pdb\"\n",
    "    full_path_in = os.path.join(PATH_SOURCE_DIR, filename)\n",
    "    full_path_out = os.path.join(PATH_TARGET_DIR, filename)\n",
    "    with open(full_path_in, \"r\") as infile, open(full_path_out, \"w\") as outfile:\n",
    "        for line in infile:\n",
    "            if line.startswith(\"ATOM\"):\n",
    "                atom_name = line[12:16].strip()\n",
    "                if atom_name in backbone_atoms:\n",
    "                    outfile.write(line)\n",
    "    \n"
   ]
  },
  {
   "cell_type": "code",
   "execution_count": null,
   "id": "78e6468c",
   "metadata": {},
   "outputs": [],
   "source": [
    "/home/t-alptartici/inverse-folding/datasets/gold_standard_struct_eval/test_all_no_sidechain"
   ]
  }
 ],
 "metadata": {
  "kernelspec": {
   "display_name": "inv_fold",
   "language": "python",
   "name": "python3"
  },
  "language_info": {
   "codemirror_mode": {
    "name": "ipython",
    "version": 3
   },
   "file_extension": ".py",
   "mimetype": "text/x-python",
   "name": "python",
   "nbconvert_exporter": "python",
   "pygments_lexer": "ipython3",
   "version": "3.9.15"
  }
 },
 "nbformat": 4,
 "nbformat_minor": 5
}

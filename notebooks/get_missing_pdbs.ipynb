{
 "cells": [
  {
   "cell_type": "code",
   "execution_count": 4,
   "id": "09650254",
   "metadata": {},
   "outputs": [
    {
     "name": "stderr",
     "output_type": "stream",
     "text": [
      "100%|██████████| 21668/21668 [00:00<00:00, 336365.21it/s]\n"
     ]
    }
   ],
   "source": [
    "import pickle\n",
    "import os\n",
    "from tqdm import tqdm\n",
    "with open('../datasets/cath-4.2/chain_set_map_with_b_factors.pkl', 'rb') as file:\n",
    "    data_pdb = pickle.load(file)\n",
    "\n",
    "missing_list = []\n",
    "for entry in tqdm(data_pdb.keys()):\n",
    "    pdb, chain = entry.split('.')\n",
    "    if not os.path.exists(f\"../datasets/all_pdbs/{pdb}.pdb\"):\n",
    "        missing_list.append(pdb)\n"
   ]
  },
  {
   "cell_type": "code",
   "execution_count": 5,
   "id": "e1123bea",
   "metadata": {},
   "outputs": [
    {
     "data": {
      "text/plain": [
       "1808"
      ]
     },
     "execution_count": 5,
     "metadata": {},
     "output_type": "execute_result"
    }
   ],
   "source": [
    "len(missing_list)"
   ]
  },
  {
   "cell_type": "code",
   "execution_count": 10,
   "id": "791d4995",
   "metadata": {},
   "outputs": [],
   "source": [
    "import requests\n",
    "def download_pdb(pdb_code, save_path=None):\n",
    "    pdb_code = pdb_code.lower()\n",
    "    url = f\"https://files.rcsb.org/download/{pdb_code}.pdb\"\n",
    "    response = requests.get(url)\n",
    "\n",
    "    if response.status_code == 200:\n",
    "        if save_path is None:\n",
    "            save_path = f\"{pdb_code}.pdb\"\n",
    "        with open(save_path, 'w') as file:\n",
    "            file.write(response.text)\n",
    "        #print(f\"PDB file saved as {save_path}\")\n",
    "    else:\n",
    "        print(f\"Failed to download PDB file for code: {pdb_code}\")\n",
    "\n"
   ]
  },
  {
   "cell_type": "code",
   "execution_count": 11,
   "id": "de3d47e4",
   "metadata": {},
   "outputs": [
    {
     "name": "stderr",
     "output_type": "stream",
     "text": [
      " 85%|████████▌ | 1537/1808 [15:00<03:01,  1.49it/s]"
     ]
    },
    {
     "name": "stdout",
     "output_type": "stream",
     "text": [
      "Failed to download PDB file for code: 4frt\n"
     ]
    },
    {
     "name": "stderr",
     "output_type": "stream",
     "text": [
      "100%|██████████| 1808/1808 [17:44<00:00,  1.70it/s]\n"
     ]
    }
   ],
   "source": [
    "for i in tqdm(range(len(missing_list))):\n",
    "    download_pdb(missing_list[i], save_path = f\"../datasets/all_pdbs/{missing_list[i]}.pdb\")"
   ]
  },
  {
   "cell_type": "code",
   "execution_count": null,
   "id": "25dbc66a",
   "metadata": {},
   "outputs": [],
   "source": []
  }
 ],
 "metadata": {
  "kernelspec": {
   "display_name": "inv_fold",
   "language": "python",
   "name": "python3"
  },
  "language_info": {
   "codemirror_mode": {
    "name": "ipython",
    "version": 3
   },
   "file_extension": ".py",
   "mimetype": "text/x-python",
   "name": "python",
   "nbconvert_exporter": "python",
   "pygments_lexer": "ipython3",
   "version": "3.9.15"
  }
 },
 "nbformat": 4,
 "nbformat_minor": 5
}
